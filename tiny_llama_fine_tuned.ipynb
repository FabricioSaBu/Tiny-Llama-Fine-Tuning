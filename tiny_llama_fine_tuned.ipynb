{
  "nbformat": 4,
  "nbformat_minor": 0,
  "metadata": {
    "colab": {
      "provenance": [],
      "gpuType": "T4",
      "authorship_tag": "ABX9TyOWjuPMuouH4bTPjdkSCZ0H",
      "include_colab_link": true
    },
    "kernelspec": {
      "name": "python3",
      "display_name": "Python 3"
    },
    "language_info": {
      "name": "python"
    },
    "accelerator": "GPU"
  },
  "cells": [
    {
      "cell_type": "markdown",
      "metadata": {
        "id": "view-in-github",
        "colab_type": "text"
      },
      "source": [
        "<a href=\"https://colab.research.google.com/github/FabricioSaBu/My-first-web-scraper/blob/master/tiny_llama_fine_tuned.ipynb\" target=\"_parent\"><img src=\"https://colab.research.google.com/assets/colab-badge.svg\" alt=\"Open In Colab\"/></a>"
      ]
    },
    {
      "cell_type": "code",
      "execution_count": null,
      "metadata": {
        "id": "fVhCFcBRykJK"
      },
      "outputs": [],
      "source": [
        "!pip install \"unsloth[colab-new] @ git+https://github.com/unslothai/unsloth.git\"\n",
        "!pip install --no-deps \"xformers<0.0.27\" \"trl<0.9.0\" peft accelerate bitsandbytes"
      ]
    },
    {
      "cell_type": "code",
      "source": [
        "from unsloth import FastLanguageModel\n",
        "import torch\n",
        "\n",
        "# Configuration settings\n",
        "max_seq_length = 2048  # Maximum sequence length supported by the model\n",
        "dtype = None        # Set to None for auto-detection, Float16 for T4/V100, Bfloat16 for Ampere GPUs\n",
        "load_in_4bit = True    # Enable 4-bit loading for memory efficiency\n",
        "\n",
        "# Load the model and tokenizer\n",
        "model, tokenizer = FastLanguageModel.from_pretrained(\n",
        "    model_name=\"unsloth/tinyllama-bnb-4bit\",  # Model name for 4-bit precision loading\n",
        "    max_seq_length=max_seq_length,\n",
        "    dtype=dtype,\n",
        "    load_in_4bit=load_in_4bit,\n",
        "    # token = \"hf_...\", # Uncomment and use if working with gated models like Meta's LLaMA-2\n",
        ")"
      ],
      "metadata": {
        "id": "-QkdIOpJ2IoQ"
      },
      "execution_count": null,
      "outputs": []
    },
    {
      "cell_type": "code",
      "source": [
        "model = FastLanguageModel.get_peft_model(\n",
        "    model,\n",
        "    r=16,\n",
        "    target_modules=[\n",
        "        \"q_proj\", \"k_proj\", \"v_proj\", \"o_proj\",\n",
        "        \"gate_proj\", \"up_proj\", \"down_proj\",\n",
        "        \"embed_tokens\", \"lm_head\"  # Add these two\n",
        "    ],\n",
        "    lora_alpha=16,\n",
        "    lora_dropout=0,\n",
        "    bias=\"none\",\n",
        "    use_gradient_checkpointing=True,\n",
        "    use_rslora=False,\n",
        "    loftq_config=None,\n",
        ")"
      ],
      "metadata": {
        "id": "zB0U1ib-3Yip"
      },
      "execution_count": null,
      "outputs": []
    },
    {
      "cell_type": "code",
      "source": [
        "from datasets import load_dataset\n",
        "\n",
        "# Load the Alpaca dataset from Hugging Face\n",
        "dataset = load_dataset(\"tatsu-lab/alpaca\", split=\"train\")\n",
        "\n",
        "# Define a prompt template\n",
        "alpaca_prompt = \"\"\"Below is an instruction that describes a task, paired with an input that provides further context. Write a response that appropriately completes the request.\n",
        "\n",
        "### Instruction:\n",
        "{}\n",
        "\n",
        "### Input:\n",
        "{}\n",
        "\n",
        "### Response:\n",
        "{}\"\"\"\n",
        "\n",
        "EOS_TOKEN = tokenizer.eos_token\n",
        "\n",
        "# Function to format the prompts\n",
        "def formatting_prompts_func(examples):\n",
        "    instructions = examples[\"instruction\"]\n",
        "    inputs       = examples[\"input\"]\n",
        "    outputs      = examples[\"output\"]\n",
        "    texts = []\n",
        "    for instruction, input, output in zip(instructions, inputs, outputs):\n",
        "        # Must add EOS_TOKEN, otherwise your generation will go on forever!\n",
        "        text = alpaca_prompt.format(instruction, input, output) + EOS_TOKEN\n",
        "        texts.append(text)\n",
        "    return { \"text\" : texts, }\n",
        "\n",
        "# Apply the formatting function to the dataset\n",
        "dataset = dataset.map(formatting_prompts_func, batched=True)\n",
        "\n",
        "# Split the dataset into training and testing sets\n",
        "dataset_dict = dataset.train_test_split(test_size=0.005)\n",
        "\n",
        "train_dataset = dataset_dict[\"train\"]\n",
        "eval_dataset = dataset_dict[\"test\"]"
      ],
      "metadata": {
        "id": "6iegZuBs685P"
      },
      "execution_count": null,
      "outputs": []
    },
    {
      "cell_type": "code",
      "source": [
        "!pip install wandb\n",
        "import wandb\n",
        "\n",
        "# Log in to W&B - you'll be prompted to input your API key\n",
        "wandb.login(key=\"0a125caf0f4c3298e71124f68236c9e52ca77b01\")\n",
        "\n",
        "# Set W&B environment variables\n",
        "%env WANDB_WATCH=all\n",
        "%env WANDB_SILENT=true"
      ],
      "metadata": {
        "id": "TkHTrmm17znv"
      },
      "execution_count": null,
      "outputs": []
    },
    {
      "cell_type": "code",
      "source": [
        "from trl import SFTTrainer\n",
        "from transformers import TrainingArguments\n",
        "from unsloth import is_bfloat16_supported\n",
        "from transformers.utils import logging\n",
        "import wandb\n",
        "\n",
        "logging.set_verbosity_info()\n",
        "\n",
        "# Initialize W&B\n",
        "project_name = \"tiny-llama\"\n",
        "entity = \"wandb\"\n",
        "wandb.init(project=project_name, name=\"unsloth-tiny-llama\")\n",
        "\n",
        "# Define training arguments\n",
        "training_args = TrainingArguments(\n",
        "    per_device_train_batch_size=2,           # Small batch size due to limited GPU memory\n",
        "    gradient_accumulation_steps=4,           # Accumulate gradients over 4 steps\n",
        "    evaluation_strategy=\"steps\",             # Evaluate after a certain number of steps\n",
        "    warmup_ratio=0.1,                        # Warm-up learning rate over 10% of training\n",
        "    num_train_epochs=1,                      # Number of epochs\n",
        "    learning_rate=2E-4,                      # Learning rate for the optimizer\n",
        "    fp16=not is_bfloat16_supported(),        # Use FP16 if BF16 is not supported\n",
        "    bf16=is_bfloat16_supported(),            # Use BF16 if supported (more efficient on Ampere GPUs)\n",
        "    max_steps=20,                            # Cap training at 20 steps for quick experimentation, increase or comment out as you see fit\n",
        "    logging_steps=1,                         # Log metrics every step\n",
        "    optim=\"adamw_8bit\",                      # Use 8-bit AdamW optimizer to save memory\n",
        "    weight_decay=0.1,                        # Regularization to avoid overfitting\n",
        "    lr_scheduler_type=\"linear\",              # Use linear learning rate decay\n",
        "    seed=3407,                               # Random seed for reproducibility\n",
        "    report_to=\"wandb\",                       # Enable logging to W&B\n",
        "    output_dir=\"outputs\",                    # Directory to save model outputs\n",
        ")"
      ],
      "metadata": {
        "id": "ubj5bv5q8RyN"
      },
      "execution_count": null,
      "outputs": []
    },
    {
      "cell_type": "code",
      "source": [
        "trainer = SFTTrainer(\n",
        "    model=model,\n",
        "    tokenizer=tokenizer,\n",
        "    train_dataset=train_dataset,     # Training dataset\n",
        "    eval_dataset=eval_dataset,       # Evaluation dataset\n",
        "    dataset_text_field=\"text\",               # The field containing text in the dataset\n",
        "    max_seq_length=max_seq_length,           # Max sequence length for inputs\n",
        "    dataset_num_proc=2,                      # Number of processes for dataset loading\n",
        "    packing=True,                            # Packs short sequences together to save time\n",
        "    args=training_args,                      # Training arguments defined earlier\n",
        ")"
      ],
      "metadata": {
        "id": "VazsTbLm8Uzd"
      },
      "execution_count": null,
      "outputs": []
    },
    {
      "cell_type": "code",
      "source": [
        "# Start training the model\n",
        "trainer.train()\n",
        "\n",
        "# Finish and close the W&B session\n",
        "wandb.finish()"
      ],
      "metadata": {
        "id": "SVNjxJJy8dEY"
      },
      "execution_count": null,
      "outputs": []
    },
    {
      "cell_type": "code",
      "source": [
        "FastLanguageModel.for_inference(model)  # Enable faster inference\n",
        "inputs = tokenizer(\n",
        "    [\n",
        "        alpaca_prompt.format(\n",
        "            \"What is the capital of Guatemala?\",  # instruction\n",
        "            \"\",  # input\n",
        "            \"\",  # output - leave this blank for generation!\n",
        "        )\n",
        "    ], return_tensors=\"pt\"\n",
        ").to(\"cuda\")\n",
        "\n",
        "outputs = model.generate(**inputs, max_new_tokens=64, use_cache=True)\n",
        "outputs = tokenizer.decode(outputs[0])\n",
        "print(outputs)"
      ],
      "metadata": {
        "id": "MwOu4Zdj7-Sf"
      },
      "execution_count": null,
      "outputs": []
    },
    {
      "cell_type": "code",
      "source": [
        "from huggingface_hub import login\n",
        "login()"
      ],
      "metadata": {
        "id": "-FLC51oN-eSX"
      },
      "execution_count": null,
      "outputs": []
    },
    {
      "cell_type": "code",
      "source": [
        "model.push_to_hub(\"first_tiny_llama\")\n",
        "tokenizer.push_to_hub(\"first_model_llama_tokenizer\")"
      ],
      "metadata": {
        "id": "oVUEDiw8BTIl"
      },
      "execution_count": null,
      "outputs": []
    },
    {
      "cell_type": "code",
      "source": [
        "del model\n",
        "del trainer\n",
        "import gc\n",
        "gc.collect()\n",
        "gc.collect()"
      ],
      "metadata": {
        "id": "M3s0m-DuCi7U"
      },
      "execution_count": null,
      "outputs": []
    }
  ]
}